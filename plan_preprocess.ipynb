{
 "cells": [
  {
   "cell_type": "code",
   "execution_count": 3,
   "metadata": {},
   "outputs": [],
   "source": [
    "import os\n",
    "from pdf2image import convert_from_path"
   ]
  },
  {
   "cell_type": "code",
   "execution_count": 4,
   "metadata": {},
   "outputs": [],
   "source": [
    "def convert_pdf_to_images(pdf_path, output_folder, dpi=600, thread_count=1):\n",
    "    # Create a subfolder in the output folder for the PDF file\n",
    "    pdf_filename = os.path.basename(pdf_path)\n",
    "    pdf_name = os.path.splitext(pdf_filename)[0]\n",
    "    output_subfolder = os.path.join(output_folder, pdf_name)\n",
    "    os.makedirs(output_subfolder, exist_ok=True)\n",
    "\n",
    "    # Convert the PDF to images using the provided dpi\n",
    "    images = convert_from_path(pdf_path, dpi=dpi, thread_count=thread_count)\n",
    "\n",
    "    # Save each page as a separate image in the output subfolder\n",
    "    for i, image in enumerate(images):\n",
    "        image_path = os.path.join(output_subfolder, f\"page_{i+1}.png\")\n",
    "        image.save(image_path, \"PNG\")\n",
    "\n",
    "    print(f\"Conversion complete for {pdf_name}!\")\n"
   ]
  },
  {
   "cell_type": "code",
   "execution_count": 6,
   "metadata": {},
   "outputs": [
    {
     "name": "stderr",
     "output_type": "stream",
     "text": [
      "/Users/jinuaugustine/anaconda3/envs/plexxis/lib/python3.11/site-packages/PIL/Image.py:3176: DecompressionBombWarning: Image size (113400000 pixels) exceeds limit of 89478485 pixels, could be decompression bomb DOS attack.\n",
      "  warnings.warn(\n"
     ]
    },
    {
     "ename": "",
     "evalue": "",
     "output_type": "error",
     "traceback": [
      "\u001b[1;31mCannot execute code, session has been disposed. Please try restarting the Kernel."
     ]
    },
    {
     "ename": "",
     "evalue": "",
     "output_type": "error",
     "traceback": [
      "\u001b[1;31mThe Kernel crashed while executing code in the the current cell or a previous cell. Please review the code in the cell(s) to identify a possible cause of the failure. Click <a href='https://aka.ms/vscodeJupyterKernelCrash'>here</a> for more info. View Jupyter <a href='command:jupyter.viewOutput'>log</a> for further details."
     ]
    }
   ],
   "source": [
    "pdf_path = \"Dataset/NAH ACC A _ S.pdf\"\n",
    "output_folder = \"HighRes_Images\"\n",
    "dpi = 300\n",
    "thread_count = 100\n",
    "\n",
    "convert_pdf_to_images(pdf_path, output_folder, dpi, thread_count)"
   ]
  },
  {
   "cell_type": "code",
   "execution_count": null,
   "metadata": {},
   "outputs": [
    {
     "name": "stdout",
     "output_type": "stream",
     "text": [
      "Resized /Users/jinuaugustine/Documents/GitHub/Plexxis-AI/HighRes_Images/Final_Dataset/Squared/resized - 9.png to 6000x6000 and saved as /Users/jinuaugustine/Documents/GitHub/Plexxis-AI/HighRes_Images/Final_Dataset/Squared/6k_resized - 9.png\n",
      "Resized /Users/jinuaugustine/Documents/GitHub/Plexxis-AI/HighRes_Images/Final_Dataset/Squared/resized - 8.png to 6000x6000 and saved as /Users/jinuaugustine/Documents/GitHub/Plexxis-AI/HighRes_Images/Final_Dataset/Squared/6k_resized - 8.png\n",
      "Resized /Users/jinuaugustine/Documents/GitHub/Plexxis-AI/HighRes_Images/Final_Dataset/Squared/resized - 6.png to 6000x6000 and saved as /Users/jinuaugustine/Documents/GitHub/Plexxis-AI/HighRes_Images/Final_Dataset/Squared/6k_resized - 6.png\n",
      "Resized /Users/jinuaugustine/Documents/GitHub/Plexxis-AI/HighRes_Images/Final_Dataset/Squared/resized - 7.png to 6000x6000 and saved as /Users/jinuaugustine/Documents/GitHub/Plexxis-AI/HighRes_Images/Final_Dataset/Squared/6k_resized - 7.png\n",
      "Resized /Users/jinuaugustine/Documents/GitHub/Plexxis-AI/HighRes_Images/Final_Dataset/Squared/resized - 10.png to 6000x6000 and saved as /Users/jinuaugustine/Documents/GitHub/Plexxis-AI/HighRes_Images/Final_Dataset/Squared/6k_resized - 10.png\n",
      "Resized /Users/jinuaugustine/Documents/GitHub/Plexxis-AI/HighRes_Images/Final_Dataset/Squared/resized - 5.png to 6000x6000 and saved as /Users/jinuaugustine/Documents/GitHub/Plexxis-AI/HighRes_Images/Final_Dataset/Squared/6k_resized - 5.png\n",
      "Resized /Users/jinuaugustine/Documents/GitHub/Plexxis-AI/HighRes_Images/Final_Dataset/Squared/resized - 4.png to 6000x6000 and saved as /Users/jinuaugustine/Documents/GitHub/Plexxis-AI/HighRes_Images/Final_Dataset/Squared/6k_resized - 4.png\n",
      "Resized /Users/jinuaugustine/Documents/GitHub/Plexxis-AI/HighRes_Images/Final_Dataset/Squared/resized - 1.png to 6000x6000 and saved as /Users/jinuaugustine/Documents/GitHub/Plexxis-AI/HighRes_Images/Final_Dataset/Squared/6k_resized - 1.png\n",
      "Resized /Users/jinuaugustine/Documents/GitHub/Plexxis-AI/HighRes_Images/Final_Dataset/Squared/resized - 3.png to 6000x6000 and saved as /Users/jinuaugustine/Documents/GitHub/Plexxis-AI/HighRes_Images/Final_Dataset/Squared/6k_resized - 3.png\n",
      "Resized /Users/jinuaugustine/Documents/GitHub/Plexxis-AI/HighRes_Images/Final_Dataset/Squared/resized - 2.png to 6000x6000 and saved as /Users/jinuaugustine/Documents/GitHub/Plexxis-AI/HighRes_Images/Final_Dataset/Squared/6k_resized - 2.png\n"
     ]
    }
   ],
   "source": [
    "from PIL import Image\n",
    "import os\n",
    "\n",
    "# Function to resize an image\n",
    "def resize_image(image_path, output_path, size):\n",
    "    try:\n",
    "        with Image.open(image_path) as image:\n",
    "            resized_image = image.resize(size)\n",
    "            resized_image.save(output_path)\n",
    "            print(f\"Resized {image_path} to {size[0]}x{size[1]} and saved as {output_path}\")\n",
    "    except Exception as e:\n",
    "        print(f\"Error resizing {image_path}: {str(e)}\")\n",
    "\n",
    "# Function to resize all images in a folder\n",
    "def resize_images_in_folder(folder_path, output_folder, size):\n",
    "    if not os.path.exists(output_folder):\n",
    "        os.makedirs(output_folder)\n",
    "    for filename in os.listdir(folder_path):\n",
    "        if filename.endswith(\".jpg\") or filename.endswith(\".png\"):\n",
    "            image_path = os.path.join(folder_path, filename)\n",
    "            name, extension = os.path.splitext(filename)\n",
    "            output_filename = f\"6k_{name}{extension}\"\n",
    "            output_path = os.path.join(output_folder, output_filename)\n",
    "            resize_image(image_path, output_path, size)\n",
    "\n",
    "# Path to the folder containing the images\n",
    "path = \"/Users/jinuaugustine/Documents/GitHub/Plexxis-AI/HighRes_Images/Final_Dataset/Squared\"\n",
    "\n",
    "# Desired size for resizing\n",
    "size = (6000, 6000)\n",
    "\n",
    "# Resize images in the folder\n",
    "resize_images_in_folder(path, path, size)"
   ]
  },
  {
   "cell_type": "code",
   "execution_count": null,
   "metadata": {},
   "outputs": [],
   "source": []
  }
 ],
 "metadata": {
  "kernelspec": {
   "display_name": "plexxis",
   "language": "python",
   "name": "python3"
  },
  "language_info": {
   "codemirror_mode": {
    "name": "ipython",
    "version": 3
   },
   "file_extension": ".py",
   "mimetype": "text/x-python",
   "name": "python",
   "nbconvert_exporter": "python",
   "pygments_lexer": "ipython3",
   "version": "3.11.3"
  },
  "orig_nbformat": 4
 },
 "nbformat": 4,
 "nbformat_minor": 2
}
