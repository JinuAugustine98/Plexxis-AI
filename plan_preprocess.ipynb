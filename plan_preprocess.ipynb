{
 "cells": [
  {
   "cell_type": "code",
   "execution_count": 1,
   "metadata": {},
   "outputs": [],
   "source": [
    "import os\n",
    "from pdf2image import convert_from_path"
   ]
  },
  {
   "cell_type": "code",
   "execution_count": 2,
   "metadata": {},
   "outputs": [],
   "source": [
    "def convert_pdf_to_images(pdf_path, output_folder, dpi=600, thread_count=1):\n",
    "    # Create a subfolder in the output folder for the PDF file\n",
    "    pdf_filename = os.path.basename(pdf_path)\n",
    "    pdf_name = os.path.splitext(pdf_filename)[0]\n",
    "    output_subfolder = os.path.join(output_folder, pdf_name)\n",
    "    os.makedirs(output_subfolder, exist_ok=True)\n",
    "\n",
    "    # Convert the PDF to images using the provided dpi\n",
    "    images = convert_from_path(pdf_path, dpi=dpi, thread_count=thread_count)\n",
    "\n",
    "    # Save each page as a separate image in the output subfolder\n",
    "    for i, image in enumerate(images):\n",
    "        image_path = os.path.join(output_subfolder, f\"page_{i+1}.png\")\n",
    "        image.save(image_path, \"PNG\")\n",
    "\n",
    "    print(f\"Conversion complete for {pdf_name}!\")\n"
   ]
  },
  {
   "cell_type": "code",
   "execution_count": 3,
   "metadata": {},
   "outputs": [
    {
     "name": "stdout",
     "output_type": "stream",
     "text": [
      "Conversion complete for COMBINED DRAWINGS PLEXXIS T.I. ISSUED FOR CONSTRUCTION 2022.09.22 (1) (1)!\n"
     ]
    }
   ],
   "source": [
    "pdf_path = \"Dataset/COMBINED DRAWINGS PLEXXIS T.I. ISSUED FOR CONSTRUCTION 2022.09.22 (1) (1).pdf\"\n",
    "output_folder = \"HighRes_Images\"\n",
    "dpi = 300\n",
    "thread_count = 8\n",
    "\n",
    "convert_pdf_to_images(pdf_path, output_folder, dpi, thread_count)"
   ]
  }
 ],
 "metadata": {
  "kernelspec": {
   "display_name": "plexxis",
   "language": "python",
   "name": "python3"
  },
  "language_info": {
   "codemirror_mode": {
    "name": "ipython",
    "version": 3
   },
   "file_extension": ".py",
   "mimetype": "text/x-python",
   "name": "python",
   "nbconvert_exporter": "python",
   "pygments_lexer": "ipython3",
   "version": "3.11.3"
  },
  "orig_nbformat": 4
 },
 "nbformat": 4,
 "nbformat_minor": 2
}
